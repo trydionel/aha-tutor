{
 "cells": [
  {
   "cell_type": "code",
   "execution_count": 1,
   "metadata": {},
   "outputs": [
    {
     "name": "stdout",
     "output_type": "stream",
     "text": [
      "Requirement already satisfied: nest_asyncio in /Users/jeff/miniconda3/envs/vscode-jupyter/lib/python3.9/site-packages (1.5.6)\n",
      "Note: you may need to restart the kernel to use updated packages.\n",
      "Requirement already satisfied: langchain in /Users/jeff/miniconda3/envs/vscode-jupyter/lib/python3.9/site-packages (0.0.128)\n",
      "Requirement already satisfied: aiohttp<4.0.0,>=3.8.3 in /Users/jeff/miniconda3/envs/vscode-jupyter/lib/python3.9/site-packages (from langchain) (3.8.3)\n",
      "Requirement already satisfied: pydantic<2,>=1 in /Users/jeff/miniconda3/envs/vscode-jupyter/lib/python3.9/site-packages (from langchain) (1.10.7)\n",
      "Requirement already satisfied: dataclasses-json<0.6.0,>=0.5.7 in /Users/jeff/miniconda3/envs/vscode-jupyter/lib/python3.9/site-packages (from langchain) (0.5.7)\n",
      "Requirement already satisfied: tenacity<9.0.0,>=8.1.0 in /Users/jeff/miniconda3/envs/vscode-jupyter/lib/python3.9/site-packages (from langchain) (8.2.2)\n",
      "Requirement already satisfied: SQLAlchemy<2,>=1 in /Users/jeff/miniconda3/envs/vscode-jupyter/lib/python3.9/site-packages (from langchain) (1.4.47)\n",
      "Requirement already satisfied: PyYAML>=5.4.1 in /Users/jeff/miniconda3/envs/vscode-jupyter/lib/python3.9/site-packages (from langchain) (6.0)\n",
      "Requirement already satisfied: requests<3,>=2 in /Users/jeff/miniconda3/envs/vscode-jupyter/lib/python3.9/site-packages (from langchain) (2.28.1)\n",
      "Requirement already satisfied: numpy<2,>=1 in /Users/jeff/miniconda3/envs/vscode-jupyter/lib/python3.9/site-packages (from langchain) (1.23.5)\n",
      "Requirement already satisfied: frozenlist>=1.1.1 in /Users/jeff/miniconda3/envs/vscode-jupyter/lib/python3.9/site-packages (from aiohttp<4.0.0,>=3.8.3->langchain) (1.3.3)\n",
      "Requirement already satisfied: yarl<2.0,>=1.0 in /Users/jeff/miniconda3/envs/vscode-jupyter/lib/python3.9/site-packages (from aiohttp<4.0.0,>=3.8.3->langchain) (1.8.1)\n",
      "Requirement already satisfied: attrs>=17.3.0 in /Users/jeff/miniconda3/envs/vscode-jupyter/lib/python3.9/site-packages (from aiohttp<4.0.0,>=3.8.3->langchain) (22.1.0)\n",
      "Requirement already satisfied: aiosignal>=1.1.2 in /Users/jeff/miniconda3/envs/vscode-jupyter/lib/python3.9/site-packages (from aiohttp<4.0.0,>=3.8.3->langchain) (1.2.0)\n",
      "Requirement already satisfied: multidict<7.0,>=4.5 in /Users/jeff/miniconda3/envs/vscode-jupyter/lib/python3.9/site-packages (from aiohttp<4.0.0,>=3.8.3->langchain) (6.0.2)\n",
      "Requirement already satisfied: async-timeout<5.0,>=4.0.0a3 in /Users/jeff/miniconda3/envs/vscode-jupyter/lib/python3.9/site-packages (from aiohttp<4.0.0,>=3.8.3->langchain) (4.0.2)\n",
      "Requirement already satisfied: charset-normalizer<3.0,>=2.0 in /Users/jeff/miniconda3/envs/vscode-jupyter/lib/python3.9/site-packages (from aiohttp<4.0.0,>=3.8.3->langchain) (2.0.4)\n",
      "Requirement already satisfied: marshmallow<4.0.0,>=3.3.0 in /Users/jeff/miniconda3/envs/vscode-jupyter/lib/python3.9/site-packages (from dataclasses-json<0.6.0,>=0.5.7->langchain) (3.19.0)\n",
      "Requirement already satisfied: marshmallow-enum<2.0.0,>=1.5.1 in /Users/jeff/miniconda3/envs/vscode-jupyter/lib/python3.9/site-packages (from dataclasses-json<0.6.0,>=0.5.7->langchain) (1.5.1)\n",
      "Requirement already satisfied: typing-inspect>=0.4.0 in /Users/jeff/miniconda3/envs/vscode-jupyter/lib/python3.9/site-packages (from dataclasses-json<0.6.0,>=0.5.7->langchain) (0.8.0)\n",
      "Requirement already satisfied: typing-extensions>=4.2.0 in /Users/jeff/miniconda3/envs/vscode-jupyter/lib/python3.9/site-packages (from pydantic<2,>=1->langchain) (4.4.0)\n",
      "Requirement already satisfied: certifi>=2017.4.17 in /Users/jeff/miniconda3/envs/vscode-jupyter/lib/python3.9/site-packages (from requests<3,>=2->langchain) (2022.12.7)\n",
      "Requirement already satisfied: idna<4,>=2.5 in /Users/jeff/miniconda3/envs/vscode-jupyter/lib/python3.9/site-packages (from requests<3,>=2->langchain) (3.4)\n",
      "Requirement already satisfied: urllib3<1.27,>=1.21.1 in /Users/jeff/miniconda3/envs/vscode-jupyter/lib/python3.9/site-packages (from requests<3,>=2->langchain) (1.26.13)\n",
      "Requirement already satisfied: greenlet!=0.4.17 in /Users/jeff/miniconda3/envs/vscode-jupyter/lib/python3.9/site-packages (from SQLAlchemy<2,>=1->langchain) (2.0.2)\n",
      "Requirement already satisfied: packaging>=17.0 in /Users/jeff/miniconda3/envs/vscode-jupyter/lib/python3.9/site-packages (from marshmallow<4.0.0,>=3.3.0->dataclasses-json<0.6.0,>=0.5.7->langchain) (22.0)\n",
      "Requirement already satisfied: mypy-extensions>=0.3.0 in /Users/jeff/miniconda3/envs/vscode-jupyter/lib/python3.9/site-packages (from typing-inspect>=0.4.0->dataclasses-json<0.6.0,>=0.5.7->langchain) (1.0.0)\n",
      "Note: you may need to restart the kernel to use updated packages.\n",
      "Requirement already satisfied: openai in /Users/jeff/miniconda3/envs/vscode-jupyter/lib/python3.9/site-packages (0.27.2)\n",
      "Requirement already satisfied: requests>=2.20 in /Users/jeff/miniconda3/envs/vscode-jupyter/lib/python3.9/site-packages (from openai) (2.28.1)\n",
      "Requirement already satisfied: tqdm in /Users/jeff/miniconda3/envs/vscode-jupyter/lib/python3.9/site-packages (from openai) (4.65.0)\n",
      "Requirement already satisfied: aiohttp in /Users/jeff/miniconda3/envs/vscode-jupyter/lib/python3.9/site-packages (from openai) (3.8.3)\n",
      "Requirement already satisfied: certifi>=2017.4.17 in /Users/jeff/miniconda3/envs/vscode-jupyter/lib/python3.9/site-packages (from requests>=2.20->openai) (2022.12.7)\n",
      "Requirement already satisfied: idna<4,>=2.5 in /Users/jeff/miniconda3/envs/vscode-jupyter/lib/python3.9/site-packages (from requests>=2.20->openai) (3.4)\n",
      "Requirement already satisfied: urllib3<1.27,>=1.21.1 in /Users/jeff/miniconda3/envs/vscode-jupyter/lib/python3.9/site-packages (from requests>=2.20->openai) (1.26.13)\n",
      "Requirement already satisfied: charset-normalizer<3,>=2 in /Users/jeff/miniconda3/envs/vscode-jupyter/lib/python3.9/site-packages (from requests>=2.20->openai) (2.0.4)\n",
      "Requirement already satisfied: attrs>=17.3.0 in /Users/jeff/miniconda3/envs/vscode-jupyter/lib/python3.9/site-packages (from aiohttp->openai) (22.1.0)\n",
      "Requirement already satisfied: aiosignal>=1.1.2 in /Users/jeff/miniconda3/envs/vscode-jupyter/lib/python3.9/site-packages (from aiohttp->openai) (1.2.0)\n",
      "Requirement already satisfied: multidict<7.0,>=4.5 in /Users/jeff/miniconda3/envs/vscode-jupyter/lib/python3.9/site-packages (from aiohttp->openai) (6.0.2)\n",
      "Requirement already satisfied: frozenlist>=1.1.1 in /Users/jeff/miniconda3/envs/vscode-jupyter/lib/python3.9/site-packages (from aiohttp->openai) (1.3.3)\n",
      "Requirement already satisfied: yarl<2.0,>=1.0 in /Users/jeff/miniconda3/envs/vscode-jupyter/lib/python3.9/site-packages (from aiohttp->openai) (1.8.1)\n",
      "Requirement already satisfied: async-timeout<5.0,>=4.0.0a3 in /Users/jeff/miniconda3/envs/vscode-jupyter/lib/python3.9/site-packages (from aiohttp->openai) (4.0.2)\n",
      "Note: you may need to restart the kernel to use updated packages.\n",
      "Requirement already satisfied: chromadb in /Users/jeff/miniconda3/envs/vscode-jupyter/lib/python3.9/site-packages (0.3.18)\n",
      "Requirement already satisfied: hnswlib>=0.7 in /Users/jeff/miniconda3/envs/vscode-jupyter/lib/python3.9/site-packages (from chromadb) (0.7.0)\n",
      "Requirement already satisfied: requests>=2.28 in /Users/jeff/miniconda3/envs/vscode-jupyter/lib/python3.9/site-packages (from chromadb) (2.28.1)\n",
      "Requirement already satisfied: posthog>=2.4.0 in /Users/jeff/miniconda3/envs/vscode-jupyter/lib/python3.9/site-packages (from chromadb) (2.4.2)\n",
      "Requirement already satisfied: sentence-transformers>=2.2.2 in /Users/jeff/miniconda3/envs/vscode-jupyter/lib/python3.9/site-packages (from chromadb) (2.2.2)\n",
      "Requirement already satisfied: fastapi>=0.85.1 in /Users/jeff/miniconda3/envs/vscode-jupyter/lib/python3.9/site-packages (from chromadb) (0.95.0)\n",
      "Requirement already satisfied: clickhouse-connect>=0.5.7 in /Users/jeff/miniconda3/envs/vscode-jupyter/lib/python3.9/site-packages (from chromadb) (0.5.18)\n",
      "Requirement already satisfied: numpy>=1.21.6 in /Users/jeff/miniconda3/envs/vscode-jupyter/lib/python3.9/site-packages (from chromadb) (1.23.5)\n",
      "Requirement already satisfied: pandas>=1.3 in /Users/jeff/miniconda3/envs/vscode-jupyter/lib/python3.9/site-packages (from chromadb) (1.5.2)\n",
      "Requirement already satisfied: uvicorn[standard]>=0.18.3 in /Users/jeff/miniconda3/envs/vscode-jupyter/lib/python3.9/site-packages (from chromadb) (0.21.1)\n",
      "Requirement already satisfied: pydantic>=1.9 in /Users/jeff/miniconda3/envs/vscode-jupyter/lib/python3.9/site-packages (from chromadb) (1.10.7)\n",
      "Requirement already satisfied: duckdb>=0.7.1 in /Users/jeff/miniconda3/envs/vscode-jupyter/lib/python3.9/site-packages (from chromadb) (0.7.1)\n",
      "Requirement already satisfied: zstandard in /Users/jeff/miniconda3/envs/vscode-jupyter/lib/python3.9/site-packages (from clickhouse-connect>=0.5.7->chromadb) (0.20.0)\n",
      "Requirement already satisfied: lz4 in /Users/jeff/miniconda3/envs/vscode-jupyter/lib/python3.9/site-packages (from clickhouse-connect>=0.5.7->chromadb) (4.3.2)\n",
      "Requirement already satisfied: urllib3>=1.26 in /Users/jeff/miniconda3/envs/vscode-jupyter/lib/python3.9/site-packages (from clickhouse-connect>=0.5.7->chromadb) (1.26.13)\n",
      "Requirement already satisfied: pytz in /Users/jeff/miniconda3/envs/vscode-jupyter/lib/python3.9/site-packages (from clickhouse-connect>=0.5.7->chromadb) (2022.7)\n",
      "Requirement already satisfied: certifi in /Users/jeff/miniconda3/envs/vscode-jupyter/lib/python3.9/site-packages (from clickhouse-connect>=0.5.7->chromadb) (2022.12.7)\n",
      "Requirement already satisfied: starlette<0.27.0,>=0.26.1 in /Users/jeff/miniconda3/envs/vscode-jupyter/lib/python3.9/site-packages (from fastapi>=0.85.1->chromadb) (0.26.1)\n",
      "Requirement already satisfied: python-dateutil>=2.8.1 in /Users/jeff/miniconda3/envs/vscode-jupyter/lib/python3.9/site-packages (from pandas>=1.3->chromadb) (2.8.2)\n",
      "Requirement already satisfied: monotonic>=1.5 in /Users/jeff/miniconda3/envs/vscode-jupyter/lib/python3.9/site-packages (from posthog>=2.4.0->chromadb) (1.6)\n",
      "Requirement already satisfied: backoff>=1.10.0 in /Users/jeff/miniconda3/envs/vscode-jupyter/lib/python3.9/site-packages (from posthog>=2.4.0->chromadb) (2.2.1)\n",
      "Requirement already satisfied: six>=1.5 in /Users/jeff/miniconda3/envs/vscode-jupyter/lib/python3.9/site-packages (from posthog>=2.4.0->chromadb) (1.16.0)\n",
      "Requirement already satisfied: typing-extensions>=4.2.0 in /Users/jeff/miniconda3/envs/vscode-jupyter/lib/python3.9/site-packages (from pydantic>=1.9->chromadb) (4.4.0)\n",
      "Requirement already satisfied: charset-normalizer<3,>=2 in /Users/jeff/miniconda3/envs/vscode-jupyter/lib/python3.9/site-packages (from requests>=2.28->chromadb) (2.0.4)\n",
      "Requirement already satisfied: idna<4,>=2.5 in /Users/jeff/miniconda3/envs/vscode-jupyter/lib/python3.9/site-packages (from requests>=2.28->chromadb) (3.4)\n",
      "Requirement already satisfied: tqdm in /Users/jeff/miniconda3/envs/vscode-jupyter/lib/python3.9/site-packages (from sentence-transformers>=2.2.2->chromadb) (4.65.0)\n",
      "Requirement already satisfied: huggingface-hub>=0.4.0 in /Users/jeff/miniconda3/envs/vscode-jupyter/lib/python3.9/site-packages (from sentence-transformers>=2.2.2->chromadb) (0.13.3)\n",
      "Requirement already satisfied: torch>=1.6.0 in /Users/jeff/miniconda3/envs/vscode-jupyter/lib/python3.9/site-packages (from sentence-transformers>=2.2.2->chromadb) (2.0.0)\n",
      "Requirement already satisfied: transformers<5.0.0,>=4.6.0 in /Users/jeff/miniconda3/envs/vscode-jupyter/lib/python3.9/site-packages (from sentence-transformers>=2.2.2->chromadb) (4.27.4)\n",
      "Requirement already satisfied: nltk in /Users/jeff/miniconda3/envs/vscode-jupyter/lib/python3.9/site-packages (from sentence-transformers>=2.2.2->chromadb) (3.8.1)\n",
      "Requirement already satisfied: scikit-learn in /Users/jeff/miniconda3/envs/vscode-jupyter/lib/python3.9/site-packages (from sentence-transformers>=2.2.2->chromadb) (1.1.3)\n",
      "Requirement already satisfied: sentencepiece in /Users/jeff/miniconda3/envs/vscode-jupyter/lib/python3.9/site-packages (from sentence-transformers>=2.2.2->chromadb) (0.1.97)\n",
      "Requirement already satisfied: torchvision in /Users/jeff/miniconda3/envs/vscode-jupyter/lib/python3.9/site-packages (from sentence-transformers>=2.2.2->chromadb) (0.15.1)\n",
      "Requirement already satisfied: scipy in /Users/jeff/miniconda3/envs/vscode-jupyter/lib/python3.9/site-packages (from sentence-transformers>=2.2.2->chromadb) (1.9.3)\n",
      "Requirement already satisfied: click>=7.0 in /Users/jeff/miniconda3/envs/vscode-jupyter/lib/python3.9/site-packages (from uvicorn[standard]>=0.18.3->chromadb) (8.0.4)\n",
      "Requirement already satisfied: h11>=0.8 in /Users/jeff/miniconda3/envs/vscode-jupyter/lib/python3.9/site-packages (from uvicorn[standard]>=0.18.3->chromadb) (0.14.0)\n",
      "Requirement already satisfied: uvloop!=0.15.0,!=0.15.1,>=0.14.0 in /Users/jeff/miniconda3/envs/vscode-jupyter/lib/python3.9/site-packages (from uvicorn[standard]>=0.18.3->chromadb) (0.17.0)\n",
      "Requirement already satisfied: httptools>=0.5.0 in /Users/jeff/miniconda3/envs/vscode-jupyter/lib/python3.9/site-packages (from uvicorn[standard]>=0.18.3->chromadb) (0.5.0)\n",
      "Requirement already satisfied: watchfiles>=0.13 in /Users/jeff/miniconda3/envs/vscode-jupyter/lib/python3.9/site-packages (from uvicorn[standard]>=0.18.3->chromadb) (0.19.0)\n",
      "Requirement already satisfied: websockets>=10.4 in /Users/jeff/miniconda3/envs/vscode-jupyter/lib/python3.9/site-packages (from uvicorn[standard]>=0.18.3->chromadb) (10.4)\n",
      "Requirement already satisfied: pyyaml>=5.1 in /Users/jeff/miniconda3/envs/vscode-jupyter/lib/python3.9/site-packages (from uvicorn[standard]>=0.18.3->chromadb) (6.0)\n",
      "Requirement already satisfied: python-dotenv>=0.13 in /Users/jeff/miniconda3/envs/vscode-jupyter/lib/python3.9/site-packages (from uvicorn[standard]>=0.18.3->chromadb) (1.0.0)\n",
      "Requirement already satisfied: packaging>=20.9 in /Users/jeff/miniconda3/envs/vscode-jupyter/lib/python3.9/site-packages (from huggingface-hub>=0.4.0->sentence-transformers>=2.2.2->chromadb) (22.0)\n",
      "Requirement already satisfied: filelock in /Users/jeff/miniconda3/envs/vscode-jupyter/lib/python3.9/site-packages (from huggingface-hub>=0.4.0->sentence-transformers>=2.2.2->chromadb) (3.10.7)\n",
      "Requirement already satisfied: anyio<5,>=3.4.0 in /Users/jeff/miniconda3/envs/vscode-jupyter/lib/python3.9/site-packages (from starlette<0.27.0,>=0.26.1->fastapi>=0.85.1->chromadb) (3.5.0)\n",
      "Requirement already satisfied: sympy in /Users/jeff/miniconda3/envs/vscode-jupyter/lib/python3.9/site-packages (from torch>=1.6.0->sentence-transformers>=2.2.2->chromadb) (1.11.1)\n",
      "Requirement already satisfied: jinja2 in /Users/jeff/miniconda3/envs/vscode-jupyter/lib/python3.9/site-packages (from torch>=1.6.0->sentence-transformers>=2.2.2->chromadb) (3.1.2)\n",
      "Requirement already satisfied: networkx in /Users/jeff/miniconda3/envs/vscode-jupyter/lib/python3.9/site-packages (from torch>=1.6.0->sentence-transformers>=2.2.2->chromadb) (3.0)\n",
      "Requirement already satisfied: tokenizers!=0.11.3,<0.14,>=0.11.1 in /Users/jeff/miniconda3/envs/vscode-jupyter/lib/python3.9/site-packages (from transformers<5.0.0,>=4.6.0->sentence-transformers>=2.2.2->chromadb) (0.13.2)\n",
      "Requirement already satisfied: regex!=2019.12.17 in /Users/jeff/miniconda3/envs/vscode-jupyter/lib/python3.9/site-packages (from transformers<5.0.0,>=4.6.0->sentence-transformers>=2.2.2->chromadb) (2023.3.23)\n",
      "Requirement already satisfied: joblib in /Users/jeff/miniconda3/envs/vscode-jupyter/lib/python3.9/site-packages (from nltk->sentence-transformers>=2.2.2->chromadb) (1.1.1)\n",
      "Requirement already satisfied: threadpoolctl>=2.0.0 in /Users/jeff/miniconda3/envs/vscode-jupyter/lib/python3.9/site-packages (from scikit-learn->sentence-transformers>=2.2.2->chromadb) (2.2.0)\n",
      "Requirement already satisfied: pillow!=8.3.*,>=5.3.0 in /Users/jeff/miniconda3/envs/vscode-jupyter/lib/python3.9/site-packages (from torchvision->sentence-transformers>=2.2.2->chromadb) (9.3.0)\n",
      "Requirement already satisfied: sniffio>=1.1 in /Users/jeff/miniconda3/envs/vscode-jupyter/lib/python3.9/site-packages (from anyio<5,>=3.4.0->starlette<0.27.0,>=0.26.1->fastapi>=0.85.1->chromadb) (1.2.0)\n",
      "Requirement already satisfied: MarkupSafe>=2.0 in /Users/jeff/miniconda3/envs/vscode-jupyter/lib/python3.9/site-packages (from jinja2->torch>=1.6.0->sentence-transformers>=2.2.2->chromadb) (2.1.1)\n",
      "Requirement already satisfied: mpmath>=0.19 in /Users/jeff/miniconda3/envs/vscode-jupyter/lib/python3.9/site-packages (from sympy->torch>=1.6.0->sentence-transformers>=2.2.2->chromadb) (1.3.0)\n",
      "Note: you may need to restart the kernel to use updated packages.\n"
     ]
    }
   ],
   "source": [
    "%pip install nest_asyncio\n",
    "%pip install langchain\n",
    "%pip install openai\n",
    "%pip install chromadb"
   ]
  },
  {
   "cell_type": "code",
   "execution_count": 2,
   "metadata": {},
   "outputs": [],
   "source": [
    "import nest_asyncio\n",
    "nest_asyncio.apply()"
   ]
  },
  {
   "cell_type": "code",
   "execution_count": 3,
   "metadata": {},
   "outputs": [],
   "source": [
    "from langchain.document_loaders.sitemap import SitemapLoader\n",
    "sitemap_loader = SitemapLoader(\n",
    "  \"https://www.aha.io/sitemap.xml\",\n",
    "  filter_urls=[\"https://www.aha.io/roadmaps\"]\n",
    ")"
   ]
  },
  {
   "cell_type": "code",
   "execution_count": 5,
   "metadata": {},
   "outputs": [
    {
     "name": "stderr",
     "output_type": "stream",
     "text": [
      "Using embedded DuckDB without persistence: data will be transient\n"
     ]
    }
   ],
   "source": [
    "from langchain.indexes import VectorstoreIndexCreator\n",
    "index = VectorstoreIndexCreator().from_loaders([sitemap_loader])"
   ]
  },
  {
   "cell_type": "code",
   "execution_count": 6,
   "metadata": {},
   "outputs": [
    {
     "data": {
      "text/plain": [
       "{'question': 'How do I prioritize features for my product?',\n",
       " 'answer': ' To prioritize features for a product, define the desired customer experience and give each feature a product value score based on goals. Use a scorecard to objectively rank features against the strategy and set estimates in hours or points to ensure the work can be completed on time.\\n',\n",
       " 'sources': 'https://www.aha.io/roadmaps/requirements, https://www.aha.io/roadmaps/overview'}"
      ]
     },
     "execution_count": 6,
     "metadata": {},
     "output_type": "execute_result"
    }
   ],
   "source": [
    "index.query_with_sources(\"How do I prioritize features for my product?\")"
   ]
  },
  {
   "cell_type": "code",
   "execution_count": null,
   "metadata": {},
   "outputs": [],
   "source": []
  }
 ],
 "metadata": {
  "kernelspec": {
   "display_name": "vscode-jupyter",
   "language": "python",
   "name": "python3"
  },
  "language_info": {
   "codemirror_mode": {
    "name": "ipython",
    "version": 3
   },
   "file_extension": ".py",
   "mimetype": "text/x-python",
   "name": "python",
   "nbconvert_exporter": "python",
   "pygments_lexer": "ipython3",
   "version": "3.9.15"
  },
  "orig_nbformat": 4
 },
 "nbformat": 4,
 "nbformat_minor": 2
}
